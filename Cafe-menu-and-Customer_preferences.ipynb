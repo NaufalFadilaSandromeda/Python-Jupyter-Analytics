{
 "cells": [
  {
   "cell_type": "markdown",
   "id": "79ef5381-e0d7-4800-983d-5e947d76bc78",
   "metadata": {},
   "source": [
    "# Analyzing Cafe menu and food Recommendations\n",
    "\n",
    "In this notebook, we will explore a comprehensive dataset of a café menu and customer preferences. We will analyze various features such as item pricing, popularity scores, dietary restrictions, preparation times, and caloric content to optimize menu offerings and operational efficiency. This analysis aims to provide data-driven insights for menu engineering, kitchen operations, and customer satisfaction optimization. Through statistical analysis and visualization techniques, we'll uncover patterns in customer preferences, identify operational bottlenecks, and suggest potential improvements for the café's menu and service delivery."
   ]
  },
  {
   "cell_type": "code",
   "execution_count": 3,
   "id": "01f18c6a-5621-4a5d-b193-4376d7f1864f",
   "metadata": {},
   "outputs": [],
   "source": [
    "import pandas as pd\n",
    "import matplotlib.pyplot as plt\n",
    "import seaborn as sns\n",
    "import numpy as np"
   ]
  },
  {
   "cell_type": "markdown",
   "id": "1f2818d6-94c9-4bfc-96e2-57107f655829",
   "metadata": {},
   "source": [
    "# 1. Data Loading and Initial Inspection"
   ]
  },
  {
   "cell_type": "code",
   "execution_count": 5,
   "id": "4f2dfa00-77af-4236-a1ba-2e63bc3715e6",
   "metadata": {},
   "outputs": [],
   "source": [
    "df = pd.read_csv(r\"C:/JN/Cafe_Menu_and_Customer_Preferences_Expanded.csv\")"
   ]
  },
  {
   "cell_type": "code",
   "execution_count": 6,
   "id": "c20b876c-c3e4-4d82-ad15-728720bd6f10",
   "metadata": {},
   "outputs": [
    {
     "data": {
      "text/html": [
       "<div>\n",
       "<style scoped>\n",
       "    .dataframe tbody tr th:only-of-type {\n",
       "        vertical-align: middle;\n",
       "    }\n",
       "\n",
       "    .dataframe tbody tr th {\n",
       "        vertical-align: top;\n",
       "    }\n",
       "\n",
       "    .dataframe thead th {\n",
       "        text-align: right;\n",
       "    }\n",
       "</style>\n",
       "<table border=\"1\" class=\"dataframe\">\n",
       "  <thead>\n",
       "    <tr style=\"text-align: right;\">\n",
       "      <th></th>\n",
       "      <th>Item_ID</th>\n",
       "      <th>Item_Name</th>\n",
       "      <th>Price (USD)</th>\n",
       "      <th>Popularity_Score</th>\n",
       "      <th>Dietary_Restrictions</th>\n",
       "      <th>Availability (Days/Week)</th>\n",
       "      <th>Calories</th>\n",
       "      <th>Preparation_Time (Minutes)</th>\n",
       "    </tr>\n",
       "  </thead>\n",
       "  <tbody>\n",
       "    <tr>\n",
       "      <th>0</th>\n",
       "      <td>ID001</td>\n",
       "      <td>Chicken Sandwich</td>\n",
       "      <td>14.07</td>\n",
       "      <td>8.5</td>\n",
       "      <td>Vegetarian</td>\n",
       "      <td>5</td>\n",
       "      <td>425</td>\n",
       "      <td>19</td>\n",
       "    </tr>\n",
       "    <tr>\n",
       "      <th>1</th>\n",
       "      <td>ID002</td>\n",
       "      <td>Brownie</td>\n",
       "      <td>6.93</td>\n",
       "      <td>5.1</td>\n",
       "      <td>Vegan</td>\n",
       "      <td>2</td>\n",
       "      <td>192</td>\n",
       "      <td>13</td>\n",
       "    </tr>\n",
       "    <tr>\n",
       "      <th>2</th>\n",
       "      <td>ID003</td>\n",
       "      <td>Bagel</td>\n",
       "      <td>10.43</td>\n",
       "      <td>9.5</td>\n",
       "      <td>Gluten-Free</td>\n",
       "      <td>1</td>\n",
       "      <td>394</td>\n",
       "      <td>8</td>\n",
       "    </tr>\n",
       "    <tr>\n",
       "      <th>3</th>\n",
       "      <td>ID004</td>\n",
       "      <td>Green Tea</td>\n",
       "      <td>4.83</td>\n",
       "      <td>7.9</td>\n",
       "      <td>NaN</td>\n",
       "      <td>4</td>\n",
       "      <td>227</td>\n",
       "      <td>5</td>\n",
       "    </tr>\n",
       "    <tr>\n",
       "      <th>4</th>\n",
       "      <td>ID005</td>\n",
       "      <td>Chai Latte</td>\n",
       "      <td>7.92</td>\n",
       "      <td>7.5</td>\n",
       "      <td>Gluten-Free</td>\n",
       "      <td>3</td>\n",
       "      <td>524</td>\n",
       "      <td>13</td>\n",
       "    </tr>\n",
       "  </tbody>\n",
       "</table>\n",
       "</div>"
      ],
      "text/plain": [
       "  Item_ID         Item_Name  Price (USD)  Popularity_Score  \\\n",
       "0   ID001  Chicken Sandwich        14.07               8.5   \n",
       "1   ID002           Brownie         6.93               5.1   \n",
       "2   ID003             Bagel        10.43               9.5   \n",
       "3   ID004         Green Tea         4.83               7.9   \n",
       "4   ID005        Chai Latte         7.92               7.5   \n",
       "\n",
       "  Dietary_Restrictions  Availability (Days/Week)  Calories  \\\n",
       "0           Vegetarian                         5       425   \n",
       "1                Vegan                         2       192   \n",
       "2          Gluten-Free                         1       394   \n",
       "3                  NaN                         4       227   \n",
       "4          Gluten-Free                         3       524   \n",
       "\n",
       "   Preparation_Time (Minutes)  \n",
       "0                          19  \n",
       "1                          13  \n",
       "2                           8  \n",
       "3                           5  \n",
       "4                          13  "
      ]
     },
     "execution_count": 6,
     "metadata": {},
     "output_type": "execute_result"
    }
   ],
   "source": [
    "df.head(5)"
   ]
  },
  {
   "cell_type": "code",
   "execution_count": 7,
   "id": "bd28e2d5-8a6d-4459-ad5b-cdbb69cc56ad",
   "metadata": {},
   "outputs": [
    {
     "name": "stdout",
     "output_type": "stream",
     "text": [
      "Dataset Info:\n",
      "<class 'pandas.core.frame.DataFrame'>\n",
      "RangeIndex: 100 entries, 0 to 99\n",
      "Data columns (total 8 columns):\n",
      " #   Column                      Non-Null Count  Dtype  \n",
      "---  ------                      --------------  -----  \n",
      " 0   Item_ID                     100 non-null    object \n",
      " 1   Item_Name                   100 non-null    object \n",
      " 2   Price (USD)                 100 non-null    float64\n",
      " 3   Popularity_Score            100 non-null    float64\n",
      " 4   Dietary_Restrictions        75 non-null     object \n",
      " 5   Availability (Days/Week)    100 non-null    int64  \n",
      " 6   Calories                    100 non-null    int64  \n",
      " 7   Preparation_Time (Minutes)  100 non-null    int64  \n",
      "dtypes: float64(2), int64(3), object(3)\n",
      "memory usage: 6.4+ KB\n",
      "None\n"
     ]
    }
   ],
   "source": [
    "# Display basic information about the dataset\n",
    "print(\"Dataset Info:\")\n",
    "print(df.info())"
   ]
  },
  {
   "cell_type": "code",
   "execution_count": 8,
   "id": "671ec9f4-70e2-49d5-9683-3eb1eb000833",
   "metadata": {},
   "outputs": [
    {
     "name": "stdout",
     "output_type": "stream",
     "text": [
      "\n",
      "Basic statistics:\n",
      "       Price (USD)  Popularity_Score  Availability (Days/Week)    Calories  \\\n",
      "count   100.000000        100.000000                100.000000  100.000000   \n",
      "mean      9.460400          7.296000                  3.860000  318.130000   \n",
      "std       3.618293          1.394355                  2.010176  156.774473   \n",
      "min       2.330000          5.100000                  1.000000   57.000000   \n",
      "25%       6.692500          6.000000                  2.000000  186.000000   \n",
      "50%       9.905000          7.450000                  4.000000  318.500000   \n",
      "75%      12.625000          8.300000                  5.000000  456.750000   \n",
      "max      14.970000         10.000000                  7.000000  585.000000   \n",
      "\n",
      "       Preparation_Time (Minutes)  \n",
      "count                   100.00000  \n",
      "mean                     12.10000  \n",
      "std                       4.37509  \n",
      "min                       5.00000  \n",
      "25%                       8.75000  \n",
      "50%                      12.00000  \n",
      "75%                      15.25000  \n",
      "max                      20.00000  \n"
     ]
    }
   ],
   "source": [
    "# Display basic statistics\n",
    "print(\"\\nBasic statistics:\")\n",
    "print(df.describe())"
   ]
  },
  {
   "cell_type": "code",
   "execution_count": 9,
   "id": "9c29245e-e3e1-4d5f-83e7-1e5efc8e2d97",
   "metadata": {},
   "outputs": [
    {
     "data": {
      "text/plain": [
       "(100, 8)"
      ]
     },
     "execution_count": 9,
     "metadata": {},
     "output_type": "execute_result"
    }
   ],
   "source": [
    "df.shape"
   ]
  },
  {
   "cell_type": "markdown",
   "id": "d2f13010-a57d-4bd7-ab45-506cb1bdb01a",
   "metadata": {},
   "source": [
    "# 2. Data Quality Check"
   ]
  },
  {
   "cell_type": "code",
   "execution_count": 10,
   "id": "3fd167d6-214c-43d9-a7a5-32070739a33c",
   "metadata": {},
   "outputs": [
    {
     "name": "stdout",
     "output_type": "stream",
     "text": [
      "\n",
      "Missing values:\n",
      "Item_ID                        0\n",
      "Item_Name                      0\n",
      "Price (USD)                    0\n",
      "Popularity_Score               0\n",
      "Dietary_Restrictions          25\n",
      "Availability (Days/Week)       0\n",
      "Calories                       0\n",
      "Preparation_Time (Minutes)     0\n",
      "dtype: int64\n"
     ]
    }
   ],
   "source": [
    "# Check for missing values\n",
    "print(\"\\nMissing values:\")\n",
    "print(df.isnull().sum())"
   ]
  },
  {
   "cell_type": "code",
   "execution_count": 11,
   "id": "b469a271-9c71-49cd-b703-21ea7fa7425f",
   "metadata": {},
   "outputs": [
    {
     "name": "stdout",
     "output_type": "stream",
     "text": [
      "\n",
      "Number of duplicate Item_IDs: 0\n"
     ]
    }
   ],
   "source": [
    "# Check for duplicates based on Item_ID\n",
    "duplicates = df[df.duplicated(['Item_ID'])]\n",
    "print(\"\\nNumber of duplicate Item_IDs:\", len(duplicates))"
   ]
  },
  {
   "cell_type": "markdown",
   "id": "adc6efe6-3393-4d9c-b106-314abb0031e4",
   "metadata": {},
   "source": [
    "# 3. Data ANalysis - Price Distribution"
   ]
  },
  {
   "cell_type": "code",
   "execution_count": 13,
   "id": "233dedb2-e6e9-41ac-947e-7ccdaea8da84",
   "metadata": {},
   "outputs": [
    {
     "data": {
      "image/png": "[encoded data removed]",
      "text/plain": [
       "<Figure size 1000x600 with 1 Axes>"
      ]
     },
     "metadata": {},
     "output_type": "display_data"
    }
   ],
   "source": [
    "plt.figure(figsize=(10,6))\n",
    "sns.histplot(data=df, x='Price (USD)', bins=20)\n",
    "plt.title('Distribution of Item Prices')\n",
    "plt.xlabel('Price (USD)')\n",
    "plt.ylabel('Count')\n",
    "plt.show()"
   ]
  },
  {
   "cell_type": "markdown",
   "id": "d03803a7-ab68-466e-bab5-28d7dcebdaac",
   "metadata": {},
   "source": [
    "# 4. Popularity Analysis"
   ]
  },
  {
   "cell_type": "code",
   "execution_count": 15,
   "id": "767ef3de-5d8c-421b-9682-7a7864f388df",
   "metadata": {},
   "outputs": [
    {
     "name": "stdout",
     "output_type": "stream",
     "text": [
      "\n",
      "Poularity by Item Type:\n",
      "                  mean  count   std\n",
      "Item_Name                          \n",
      "Mocha             9.70      1   NaN\n",
      "Cappuccino        8.25      4  1.93\n",
      "Iced Coffee       8.18      5  1.85\n",
      "Americano         7.94      5  1.32\n",
      "Chai Latte        7.77      3  1.72\n",
      "Croissant         7.70      3  1.82\n",
      "Pasta             7.62      6  1.00\n",
      "Bagel             7.59      7  1.41\n",
      "Blueberry Muffin  7.50      4  1.95\n",
      "Matcha            7.38      6  1.19\n",
      "Chicken Sandwich  7.34     11  1.23\n",
      "Brownie           7.14      7  1.48\n",
      "Caesar Salad      7.11      7  1.58\n",
      "Espresso          6.84      7  1.01\n",
      "Hot Chocolate     6.82      4  1.10\n",
      "Green Tea         6.82      4  1.04\n",
      "Fruit Bowl        6.70      4  1.14\n",
      "Cheesecake        6.70      6  1.31\n",
      "Latte             6.55      4  1.67\n",
      "Vegan Wrap        5.30      2  0.28\n"
     ]
    }
   ],
   "source": [
    "poularity_by_item=df.groupby('Item_Name')['Popularity_Score'].agg(['mean','count','std']).round(2)\n",
    "print(\"\\nPoularity by Item Type:\")\n",
    "print(poularity_by_item.sort_values('mean',ascending=False))"
   ]
  },
  {
   "cell_type": "markdown",
   "id": "96413dc9-158a-4c40-939a-bb7e0a3e344f",
   "metadata": {},
   "source": [
    "# 5. Dietary Restrictions Analysis"
   ]
  },
  {
   "cell_type": "code",
   "execution_count": 16,
   "id": "779c4f39-3cce-4def-aa7b-51b6426c3be5",
   "metadata": {},
   "outputs": [
    {
     "name": "stdout",
     "output_type": "stream",
     "text": [
      "\n",
      "Dietary Restriction Distribution :\n",
      "Dietary_Restrictions\n",
      "Non-Vegetarian    22\n",
      "Vegan             21\n",
      "Gluten-Free       17\n",
      "Vegetarian        15\n",
      "Name: count, dtype: int64\n"
     ]
    }
   ],
   "source": [
    "dietary_counts = df['Dietary_Restrictions'].value_counts()\n",
    "print(\"\\nDietary Restriction Distribution :\")\n",
    "print(dietary_counts)"
   ]
  },
  {
   "cell_type": "markdown",
   "id": "7995a0ed-4193-4814-9307-71f963217aad",
   "metadata": {},
   "source": [
    " # 6. Price vs Popularity Correlation"
   ]
  },
  {
   "cell_type": "code",
   "execution_count": 18,
   "id": "cc5c8080-511d-4acf-9d16-136ecbb904b4",
   "metadata": {},
   "outputs": [
    {
     "data": {
      "image/png": "[encoded data removed]",
      "text/plain": [
       "<Figure size 1000x600 with 1 Axes>"
      ]
     },
     "metadata": {},
     "output_type": "display_data"
    }
   ],
   "source": [
    "plt.figure(figsize=(10,6))\n",
    "sns.scatterplot(data=df, x='Price (USD)', y='Popularity_Score')\n",
    "plt.title('Price vs Popularity')\n",
    "plt.show()"
   ]
  },
  {
   "cell_type": "code",
   "execution_count": 19,
   "id": "d8db5ce2-c68e-4c5d-b298-f0bf3fb7d4af",
   "metadata": {},
   "outputs": [
    {
     "name": "stdout",
     "output_type": "stream",
     "text": [
      "\n",
      "Correlation between Price and Popularity: 0.12\n"
     ]
    }
   ],
   "source": [
    "# Calculate correlation coefficient\n",
    "correlation = df['Price (USD)'].corr(df['Popularity_Score'])\n",
    "print(f\"\\nCorrelation between Price and Popularity: {correlation:.2f}\")"
   ]
  },
  {
   "cell_type": "markdown",
   "id": "1632e83f-b6c7-41c0-b324-31e2081ce767",
   "metadata": {},
   "source": [
    "# 7. Preparation Time Analysis"
   ]
  },
  {
   "cell_type": "code",
   "execution_count": 20,
   "id": "f9f7ffe8-6ea0-4848-ac0b-0cf1070455d1",
   "metadata": {},
   "outputs": [
    {
     "name": "stdout",
     "output_type": "stream",
     "text": [
      "\n",
      "Average Preparation Time by Item (Minutes):\n",
      "Item_Name\n",
      "Americano           15.600000\n",
      "Hot Chocolate       15.000000\n",
      "Matcha              14.666667\n",
      "Iced Coffee         14.200000\n",
      "Blueberry Muffin    13.500000\n",
      "Cappuccino          13.500000\n",
      "Caesar Salad        13.428571\n",
      "Brownie             12.571429\n",
      "Fruit Bowl          12.250000\n",
      "Pasta               12.166667\n",
      "Chicken Sandwich    11.727273\n",
      "Espresso            11.571429\n",
      "Vegan Wrap          11.500000\n",
      "Latte               11.000000\n",
      "Bagel               10.571429\n",
      "Mocha               10.000000\n",
      "Green Tea            9.750000\n",
      "Chai Latte           9.666667\n",
      "Cheesecake           9.000000\n",
      "Croissant            6.000000\n",
      "Name: Preparation_Time (Minutes), dtype: float64\n"
     ]
    }
   ],
   "source": [
    "prep_time_by_item = df.groupby('Item_Name')['Preparation_Time (Minutes)'].mean().sort_values(ascending=False)\n",
    "print(\"\\nAverage Preparation Time by Item (Minutes):\")\n",
    "print(prep_time_by_item)"
   ]
  },
  {
   "cell_type": "markdown",
   "id": "94b800c5-783f-486f-bffb-ae90c40ed5ec",
   "metadata": {},
   "source": [
    "# 8. Advanced Analysis - Price-Calorie Relationship"
   ]
  },
  {
   "cell_type": "code",
   "execution_count": 21,
   "id": "79a725a0-3c43-42de-91aa-3c6979769b9d",
   "metadata": {},
   "outputs": [
    {
     "data": {
      "image/png": "[encoded data removed]",
      "text/plain": [
       "<Figure size 1000x600 with 1 Axes>"
      ]
     },
     "metadata": {},
     "output_type": "display_data"
    }
   ],
   "source": [
    "plt.figure(figsize=(10, 6))\n",
    "sns.regplot(data=df, x='Calories', y='Price (USD)')\n",
    "plt.title('Price vs. Calories with Regression Line')\n",
    "plt.show()"
   ]
  },
  {
   "cell_type": "markdown",
   "id": "e97b39bf-f56a-4c54-9b98-ccbcbec4e48d",
   "metadata": {},
   "source": [
    "# 9. Availability Analysis"
   ]
  },
  {
   "cell_type": "code",
   "execution_count": 22,
   "id": "1f15e94a-f681-43fc-9982-f599d2bb9260",
   "metadata": {},
   "outputs": [
    {
     "name": "stdout",
     "output_type": "stream",
     "text": [
      "\n",
      "Availability Statistics by Item:\n",
      "                      mean  min  max\n",
      "Item_Name                           \n",
      "Vegan Wrap        6.000000    5    7\n",
      "Green Tea         5.000000    4    7\n",
      "Bagel             4.714286    1    7\n",
      "Chai Latte        4.666667    3    7\n",
      "Matcha            4.666667    1    6\n",
      "Americano         4.600000    2    7\n",
      "Hot Chocolate     4.500000    2    7\n",
      "Chicken Sandwich  4.272727    1    7\n",
      "Cheesecake        4.166667    1    7\n",
      "Caesar Salad      4.142857    1    7\n",
      "Pasta             3.833333    1    6\n",
      "Iced Coffee       3.800000    1    6\n",
      "Fruit Bowl        3.250000    1    7\n",
      "Croissant         3.000000    1    5\n",
      "Blueberry Muffin  3.000000    1    5\n",
      "Espresso          2.857143    1    5\n",
      "Cappuccino        2.750000    1    7\n",
      "Brownie           2.714286    2    4\n",
      "Latte             2.250000    1    4\n",
      "Mocha             2.000000    2    2\n"
     ]
    }
   ],
   "source": [
    "availability_stats = df.groupby('Item_Name')['Availability (Days/Week)'].agg(['mean', 'min', 'max'])\n",
    "print(\"\\nAvailability Statistics by Item:\")\n",
    "print(availability_stats.sort_values('mean', ascending=False))"
   ]
  },
  {
   "cell_type": "markdown",
   "id": "c5db1020-c1b1-4167-9293-0209944f20c1",
   "metadata": {},
   "source": [
    "# 10. Menu Optimization Metrics"
   ]
  },
  {
   "cell_type": "code",
   "execution_count": 23,
   "id": "b64935c7-ee2b-48ae-8854-94d84cdfdbc8",
   "metadata": {},
   "outputs": [
    {
     "name": "stdout",
     "output_type": "stream",
     "text": [
      "\n",
      "Most Efficient Menu Items (Popularity/Prep Time):\n",
      "Item_Name\n",
      "Croissant     1.334444\n",
      "Mocha         0.970000\n",
      "Green Tea     0.882941\n",
      "Chai Latte    0.850641\n",
      "Cheesecake    0.825733\n",
      "Name: Efficiency_Score, dtype: float64\n"
     ]
    }
   ],
   "source": [
    "# Calculate efficiency score (Popularity/Preparation Time ratio)\n",
    "df['Efficiency_Score'] = df['Popularity_Score'] / df['Preparation_Time (Minutes)']\n",
    "top_efficient_items = df.groupby('Item_Name')['Efficiency_Score'].mean().sort_values(ascending=False).head()\n",
    "print(\"\\nMost Efficient Menu Items (Popularity/Prep Time):\")\n",
    "print(top_efficient_items)"
   ]
  },
  {
   "cell_type": "markdown",
   "id": "623171d9-2227-4632-b18f-326e32135473",
   "metadata": {},
   "source": [
    "# Conclusion\n",
    "\n",
    "In this notebook, we explored a comprehensive dataset of café menu items and provided insights into various features such as pricing patterns, popularity scores, preparation times, and dietary offerings. Our analysis revealed several key findings:\n",
    "\n",
    "1. The average menu item price is [X] USD, with prices ranging from [min] to [max]\n",
    "2. Most popular items are [list top 3] based on customer ratings\n",
    "3. [X]% of menu items offer dietary-restricted options (vegetarian, vegan, gluten-free)\n",
    "4. There is a [strong/weak] correlation (r = [correlation coefficient]) between price and popularity\n",
    "5. The most efficient items (popularity-to-preparation-time ratio) are [list top 3]"
   ]
  }
 ],
 "metadata": {
  "kernelspec": {
   "display_name": "Python 3 (ipykernel)",
   "language": "python",
   "name": "python3"
  },
  "language_info": {
   "codemirror_mode": {
    "name": "ipython",
    "version": 3
   },
   "file_extension": ".py",
   "mimetype": "text/x-python",
   "name": "python",
   "nbconvert_exporter": "python",
   "pygments_lexer": "ipython3",
   "version": "3.12.2"
  }
 },
 "nbformat": 4,
 "nbformat_minor": 5
}
